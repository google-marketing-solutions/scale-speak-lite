{
  "cells": [
    {
      "cell_type": "markdown",
      "metadata": {
        "id": "H38R_-UJq4b3"
      },
      "source": [
        "### Overview\n",
        "\n",
        "This notebook generates audio ads based on input text (ad script text) and target languages where the ad is translated to, before generating speech.\n",
        "\n",
        "### Requirements\n",
        "\n",
        "To run this notebook, you need a Google Cloud Project with the following APIs enabled:\n",
        "\n",
        "* [Text to Speech](https://cloud.google.com/text-to-speech)\n",
        "* [Vertex AI](https://cloud.google.com/vertex-ai?hl=en)\n",
        "\n",
        "You must also have billing enabled for your project.\n",
        "\n",
        "### How to use this notebook:\n",
        "\n",
        "1.   Run all the installation steps in the given order.\n",
        "2.   Input a text for an ad in a given language and select desired output languages.\n",
        "3.   The LLM (Vertex AI) translates the text in the required languages and generates Speech Synthesis Markup Language (SSML). This helps to make the text sound more human once it is generated as an ad (speech).\n",
        "4. The user receives a list of audio files as output, which can be downloaded for ads trafficking.\n",
        "5. Optionally, the user can select another voice (aside from the default) for a given language.\n",
        "6. Optionally, the user can change the SSML for the speech to sound more like their preference.\n",
        "\n",
        "\n"
      ]
    },
    {
      "cell_type": "markdown",
      "metadata": {
        "id": "SLGDXeSDlF_5"
      },
      "source": [
        "Run these cells before going to step 1)"
      ]
    },
    {
      "cell_type": "markdown",
      "metadata": {
        "id": "6YfRvUn4GC0A"
      },
      "source": [
        "# Installation steps:"
      ]
    },
    {
      "cell_type": "code",
      "execution_count": null,
      "metadata": {
        "id": "_cze47silQ-b"
      },
      "outputs": [],
      "source": [
        "#@title Install the Google Cloud libraries to work with\n",
        "!pip install --upgrade google-cloud-texttospeech\n",
        "!pip install google-cloud-aiplatform"
      ]
    },
    {
      "cell_type": "code",
      "execution_count": null,
      "metadata": {
        "id": "uQLzfsz6mm_C"
      },
      "outputs": [],
      "source": [
        "#@title Import the required modules\n",
        "from google.cloud import texttospeech\n",
        "from google.colab import auth\n",
        "import ipywidgets as widgets\n",
        "import vertexai\n",
        "from vertexai.language_models import TextGenerationModel\n",
        "from IPython.display import Audio"
      ]
    },
    {
      "cell_type": "code",
      "execution_count": null,
      "metadata": {
        "id": "s9vYWr7mnD0T"
      },
      "outputs": [],
      "source": [
        "#@title Specify your Google Cloud Project id\n",
        "project_id='' # @param {type:\"string\"}\n",
        "location = 'europe-west4' # @param [\"us-west1\", \"us-west2\", \"us-west3\", \"us-west4\", \"us-central1\", \"us-east1\", \"us-east4\", \"us-south1\", \"northamerica-northeast1\", \"northamerica-northeast2\", \"southamerica-east1\", \"southamerica-west1\", \"europe-west2\", \"europe-west1\", \"europe-west4\", \"europe-west6\", \"europe-west3\", \"europe-north1\", \"europe-central2\", \"europe-west8\", \"europe-west9\", \"europe-southwest1\", \"asia-south1\", \"asia-southeast1\", \"asia-southeast2\", \"asia-east2\", \"asia-east1\", \"asia-northeast1\", \"asia-northeast2\", \"australia-southeast1\", \"australia-southeast2\", \"asia-northeast3\", \"me-west1\"]\n",
        "\n",
        "auth.authenticate_user(project_id=project_id)"
      ]
    },
    {
      "cell_type": "code",
      "execution_count": null,
      "metadata": {
        "id": "4os9inVWnAv6"
      },
      "outputs": [],
      "source": [
        "#@title Instantiate the Text to Speech Client\n",
        "client = texttospeech.TextToSpeechClient()"
      ]
    },
    {
      "cell_type": "code",
      "execution_count": null,
      "metadata": {
        "id": "VMvJqiQim5Wy"
      },
      "outputs": [],
      "source": [
        "#@title Retrieve all the voices from the Text To Speech API\n",
        "def get_voices():\n",
        "    \"\"\"Retrieves all the voices from the Text To Speech API.\n",
        "\n",
        "    Returns:\n",
        "        A list of tuples (language_code, voice_name), where each tuple\n",
        "        represents a voice available in the Text To Speech API.\n",
        "    \"\"\"\n",
        "    response = client.list_voices()\n",
        "    voices = [(voice.language_codes[0], voice.name)\n",
        "              for voice in response.voices]\n",
        "    return voices"
      ]
    },
    {
      "cell_type": "code",
      "execution_count": null,
      "metadata": {
        "id": "RPCiXtH4nccr"
      },
      "outputs": [],
      "source": [
        "#@title Fetch available languages and set a default voice per language\n",
        "languages = []\n",
        "languages_default_voice = dict()\n",
        "# uncomment this code if you want to use your own defaults, and change it\n",
        "# language_default_voice = {'af-ZA': 'af-ZA-Standard-A',\n",
        "#                           'bg-BG': 'bg-BG-Standard-A'}\n",
        "for voice in get_voices():\n",
        "    language_pair = voice[0]\n",
        "    if language_pair not in languages:\n",
        "        languages.append(language_pair)\n",
        "        languages_default_voice[language_pair] = voice[1]\n",
        "\n",
        "print(languages_default_voice)"
      ]
    },
    {
      "cell_type": "code",
      "execution_count": null,
      "metadata": {
        "id": "FuocFxyZYZDq"
      },
      "outputs": [],
      "source": [
        "#@title Send prompt to LLM and send the answer SSML to TTS API\n",
        "synthesize_errors = []\n",
        "vertexai.init(project=project_id, location=location)\n",
        "\n",
        "def prompt(\n",
        "    input_text: str,\n",
        "    target_language: str\n",
        ") -> str:\n",
        "    \"\"\"Generates SSML with a Large Language Model for the given input text and target language.\n",
        "\n",
        "    Args:\n",
        "        input_text (str): The input text to translate and convert to SSML.\n",
        "        target_language (str): The target language for the translation.\n",
        "\n",
        "    Returns:\n",
        "        str: The SSML-formatted text for the given input text and target language.\n",
        "    \"\"\"\n",
        "    parameters = {\n",
        "        \"temperature\": 0.0,  # Temperature controls the degree of randomness in token selection.\n",
        "        \"max_output_tokens\": 256,  # Token limit determines the maximum amount of text output.\n",
        "        \"top_p\": 0.8,  # Tokens are selected from most probable to least until the sum of their probabilities equals the top_p value.\n",
        "        \"top_k\": 40,  # A top_k of 1 means the selected token is the most probable among all tokens.\n",
        "    }\n",
        "\n",
        "    model = TextGenerationModel.from_pretrained(\"text-bison@001\")\n",
        "    response = model.predict(\n",
        "        f\"\"\"\n",
        "        context: you take an input text for an audio ad into the requested language.\n",
        "          You will receive and \"input_text\" and \"target_language\". You'll translate the text in the requested language and  return the translated sentence in ssml format for the gcp text-to-speech API.\n",
        "          Adjust the SSML parameters such as speed and tone to make the audio more realist, compelling and sales like.\n",
        "          In the case of ca-ES translate to Spanish. Never define voice name in the SSML.\n",
        "\n",
        "        examples:\n",
        "\n",
        "            input: text: Vertex AI. Innovate faster with enterprise-ready generative AI. Vertex AI offers everything you need to build and use generative AI—from AI solutions, to Search and Conversation, to 100+ foundation models, to a unified AI platform. New customers get $300 in free credits to spend on Vertex AI.\n",
        "            language: french\n",
        "\n",
        "\n",
        "            output: <speak>\n",
        "            <prosody pitch=\\\"+10%\\\" rate=\\\"115%\\\" >Vertex AI.</prosody>\n",
        "            <prosody pitch=\\\"-5%\\\" rate=\\\"110%\\\" >Innovez plus rapidement grâce à une IA générative adaptée aux entreprises. </prosody>\n",
        "            <prosody pitch=\\\"+10%\\\" rate=\\\"115%\\\" > Vertex AI offre tout ce dont vous avez besoin pour créer et utiliser l\\'IA générative, des solutions d\\'IA à la recherche et à la conversation, en passant par plus de 100 modèles de base et une plate-forme d\\'IA unifiée.</prosody>\n",
        "            <prosody pitch=\\\"-5%\\\" rate=\\\"120%\\\" >Les nouveaux clients bénéficient de 300 $ de crédits gratuits à dépenser sur Vertex AI.</prosody>\n",
        "            </speak>\n",
        "\n",
        "            output: <speak>\n",
        "            <prosody pitch=\\\"+10%\\\" rate=\\\"90%\\\" volume=\\\"100%\\\">\n",
        "                    <emphasis level=\\\"strong\\\">Entdecken</emphasis> Sie das Geheimnis hinter <emphasis level=\\\"moderate\\\">Heinekens</emphasis>  erfrischendem <emphasis level=\\\"strong\\\">ersten Schluck</emphasis>.\n",
        "                </prosody>\n",
        "                <break time=\\\"1s\\\"/>\n",
        "                <prosody pitch=\\\"0%\\\" rate=\\\"95%\\\" volume=\\\"100%\\\">\n",
        "                    Dazu gehören die berühmte A-Hefe von Heineken, hochwertiges reines Malz, 100 % natürliche Zutaten, ein innovatives horizontales Brauverfahren und die erfahrenen Star-Brauer von Heineken – ein Titel, für den man 10 Jahre braucht.\n",
        "                </prosody>\n",
        "            </speak>\n",
        "\n",
        "            input: text: Vertex AI. Innovate faster with enterprise-ready generative AI. Vertex AI offers everything you need to build and use generative AI—from AI solutions, to Search and Conversation, to 100+ foundation models, to a unified AI platform.\n",
        "            language: german\n",
        "\n",
        "\n",
        "            output: <speak>\n",
        "            <prosody pitch=\\\"+10%\\\" rate=\\\"115%\\\" >Vertex AI.</prosody>\n",
        "            <prosody pitch=\\\"-5%\\\" rate=\\\"110%\\\" >Schnellere Innovationen mit generativer KI für Unternehmen. </prosody>\n",
        "            <prosody pitch=\\\"+10%\\\" rate=\\\"115%\\\" Vertex AI bietet alles, was Sie zum Erstellen und Verwenden von generativer KI benötigen – von KI-Lösungen über die Suche und Unterhaltung bis hin zu über 100 Foundation Models bis hin zu einer einheitlichen KI-Plattform.</prosody>\n",
        "            <prosody pitch=\\\"-5%\\\" rate=\\\"120%\\\"> Neukunden erhalten ein Startguthaben von 300 $ für Vertex AI.</prosody>\n",
        "            </speak>\n",
        "\n",
        "\n",
        "            input: text: Text-to-Speech AI. Convert text into natural-sounding speech using an API powered by the best of Google’s AI technologies. New customers get $300 in free credits to spend on Text-to-Speech. Improve customer interactions with intelligent, lifelike responses. Engage users with voice user interface in your devices and applications. Personalize your communication based on user preference of voice and language: spanish\n",
        "\n",
        "\n",
        "            output: <speak>\n",
        "            <prosody pitch=\\\"+5%\\\" rate=\\\"120%\\\" > IA de Text‐to‐Speech. </prosody>\n",
        "            <prosody pitch=\\\"-2%\\\" rate=\\\"105%\\\" >Convierte texto en voz que suena natural con una API basada en las mejores tecnologías de IA de Google.</prosody>\n",
        "            <prosody pitch=\\\"-5%\\\" rate=\\\"120%\\\"> Los nuevos clientes reciben 300 USD en crédito gratis para utilizarlo en Text‐to‐Speech.</prosody>\n",
        "            <prosody pitch=\\\"-5%\\\" rate=\\\"110%\\\"> Mejora las interacciones con los clientes gracias a respuestas naturales e inteligentes. </prosody>\n",
        "            <prosody pitch=\\\"0%\\\" rate=\\\"105%\\\"> Capta el interés de los usuarios con una interfaz de voz en tus dispositivos y aplicaciones. </prosody>\n",
        "            <prosody pitch=\\\"5%\\\" rate=\\\"110%\\\">Personaliza tus comunicaciones en función de las preferencias de voz e idioma del usuario. </prosody>\n",
        "            </speak>\n",
        "\n",
        "\n",
        "        input_text: {input_text}\n",
        "        target_language: {target_language}\n",
        "        output:\n",
        "        \"\"\",\n",
        "        **parameters,\n",
        "    )\n",
        "    return response.text\n",
        "\n",
        "def get_language_voices(language):\n",
        "  \"\"\"Retrieves all voices available for the specified language.\n",
        "\n",
        "  Args:\n",
        "      language (str): The target language.\n",
        "\n",
        "  Returns:\n",
        "      list: A list of tuples (language_code, voice_name), where each tuple\n",
        "      represents a voice available for the specified language.\n",
        "  \"\"\"\n",
        "  out = []\n",
        "  for voice in voices:\n",
        "      if language in voice[1]:\n",
        "        out.append(voice)\n",
        "  return out\n",
        "\n",
        "def get_voice_ssml_pairs(selected_languages, input_text):\n",
        "  \"\"\"Generates SSML for each voice in the given selected languages.\n",
        "\n",
        "  Args:\n",
        "      selected_languages (list): A list of target languages.\n",
        "      input_text (str): The input text to translate and convert to SSML.\n",
        "\n",
        "  Returns:\n",
        "      list: A list of tuples (voice_name, ssml_text), where each tuple\n",
        "      represents the SSML-formatted text for the given input text and a voice\n",
        "      in one of the selected languages.\n",
        "  \"\"\"\n",
        "  output = []\n",
        "  for selected_language in selected_languages:\n",
        "    script = prompt(input_text, selected_language)\n",
        "    for voice in get_language_voices(selected_language):\n",
        "      output.append((voice[1], script))\n",
        "  return output\n",
        "\n",
        "def get_default_voice_ssml_pairs(selected_languages, input_text):\n",
        "  \"\"\"Generates SSML for each default voice in the given selected languages.\n",
        "\n",
        "  Args:\n",
        "      selected_languages (list): A list of target languages.\n",
        "      input_text (str): The input text to translate and convert to SSML.\n",
        "\n",
        "  Returns:\n",
        "      list: A list of tuples (voice_name, ssml_text), where each tuple\n",
        "      represents the SSML-formatted text for the given input text and the\n",
        "      default voice for one of the selected languages.\n",
        "  \"\"\"\n",
        "  output = []\n",
        "  for selected_language in selected_languages:\n",
        "    script = prompt(input_text,selected_language)\n",
        "    output.append((languages_default_voice.get(selected_language), script))\n",
        "  return output\n",
        "\n",
        "def synthesize_speech(text, voice_name):\n",
        "    \"\"\"Synthesizes speech using the Text-to-Speech API.\n",
        "\n",
        "    Args:\n",
        "        text (str): The text to synthesize.\n",
        "        voice_name (str): The name of the voice to use.\n",
        "\n",
        "    Returns:\n",
        "        Audio: An object representing the synthesized speech.\n",
        "    \"\"\"\n",
        "    language_code = '-'.join(voice_name.split('-')[:2])\n",
        "    synthesis_input = texttospeech.SynthesisInput(ssml=text)\n",
        "    voice_params = texttospeech.VoiceSelectionParams(\n",
        "        language_code=language_code,\n",
        "        name=voice_name\n",
        "    )\n",
        "    audio_config = texttospeech.AudioConfig(\n",
        "        audio_encoding=texttospeech.AudioEncoding.MP3\n",
        "    )\n",
        "    try:\n",
        "      response = client.synthesize_speech(\n",
        "          input=synthesis_input,\n",
        "          voice=voice_params,\n",
        "          audio_config=audio_config\n",
        "      )\n",
        "      return Audio(data=response.audio_content, autoplay=False)\n",
        "    except Exception as err:\n",
        "      print('Handling run-time error:', err)\n",
        "      synthesize_errors.append(err)\n",
        "      pass\n"
      ]
    },
    {
      "cell_type": "markdown",
      "metadata": {
        "id": "RqzfsQOIlB0U"
      },
      "source": [
        "# How to use it?\n"
      ]
    },
    {
      "cell_type": "code",
      "execution_count": null,
      "metadata": {
        "id": "nqQumNl4pU47"
      },
      "outputs": [],
      "source": [
        "#@title Replace the text with your own and select at least language below\n",
        "ad_text = widgets.Textarea(\n",
        "    value='Replace me with your text',\n",
        "    description='Ad script:',\n",
        "    disabled=False,\n",
        "    layout = widgets.Layout(width='1000px', height='100px')\n",
        ")\n",
        "\n",
        "items_left = languages[:len(languages)//2]\n",
        "items_right = languages[len(languages)//2:]\n",
        "\n",
        "checkboxes_left = [widgets.Checkbox(value=False, description=item) for item in items_left]\n",
        "checkboxes_right = [widgets.Checkbox(value=False, description=item) for item in items_right]\n",
        "\n",
        "left_box = widgets.VBox(checkboxes_left)\n",
        "right_box = widgets.VBox(checkboxes_right)\n",
        "\n",
        "display(widgets.VBox([ad_text]))\n",
        "display(widgets.HBox([left_box, right_box]))"
      ]
    },
    {
      "cell_type": "code",
      "execution_count": null,
      "metadata": {
        "id": "BsXY3RknsYGT"
      },
      "outputs": [],
      "source": [
        "#@title Your input is:\n",
        "selected_languages = []\n",
        "for checkbox in checkboxes_left + checkboxes_right:\n",
        "    if checkbox.value:\n",
        "        selected_languages.append(checkbox.description)\n",
        "\n",
        "print(selected_languages)\n",
        "print(ad_text.value)"
      ]
    },
    {
      "cell_type": "code",
      "execution_count": null,
      "metadata": {
        "id": "xe97ysc9-_hy"
      },
      "outputs": [],
      "source": [
        "#@title Speech generated with a default voice and LLM generated SSML:\n",
        "voices = get_voices()\n",
        "input_text = ad_text.value\n",
        "pairs = get_default_voice_ssml_pairs(selected_languages, input_text)\n",
        "\n",
        "for voice_name_ssml in pairs:\n",
        "  print(f\"Voice: {voice_name_ssml[0]}\")\n",
        "  # print(\"\\n\")\n",
        "  print(f\" SSML: {voice_name_ssml[1]}\")\n",
        "  display(synthesize_speech(voice_name_ssml[1], voice_name_ssml[0]))\n"
      ]
    },
    {
      "cell_type": "markdown",
      "metadata": {
        "id": "WX8WkTk4Mbns"
      },
      "source": [
        "# Customization: Select the best voice for your SSML\n",
        "\n",
        "---\n",
        "\n"
      ]
    },
    {
      "cell_type": "code",
      "execution_count": null,
      "metadata": {
        "id": "2vI5Tkl1DT4p"
      },
      "outputs": [],
      "source": [
        "#@title Paste one of the SSML & select a language\n",
        "from ipywidgets import widgets\n",
        "ad_text_ssml_custom = widgets.Textarea(\n",
        "    value='Replace me with your SSML',\n",
        "    description='SSML:',\n",
        "    disabled=False,\n",
        "    layout = widgets.Layout(width='1000px', height='200px')\n",
        ")\n",
        "items_left = languages[:len(languages)//2]\n",
        "items_right = languages[len(languages)//2:]\n",
        "\n",
        "checkboxes_left = [widgets.Checkbox(value=False, description=item) for item in items_left]\n",
        "checkboxes_right = [widgets.Checkbox(value=False, description=item) for item in items_right]\n",
        "\n",
        "left_box = widgets.VBox(checkboxes_left)\n",
        "right_box = widgets.VBox(checkboxes_right)\n",
        "\n",
        "display(widgets.VBox([ad_text_ssml_custom]))\n",
        "display(widgets.HBox([left_box, right_box]))\n",
        "\n"
      ]
    },
    {
      "cell_type": "code",
      "execution_count": null,
      "metadata": {
        "id": "gZm057WXL-DV"
      },
      "outputs": [],
      "source": [
        "#@title Your selection is:\n",
        "selected_languages_ssml = []\n",
        "for checkbox in checkboxes_left + checkboxes_right:\n",
        "    if checkbox.value:\n",
        "        selected_languages_ssml.append(checkbox.description)\n",
        "\n",
        "print(selected_languages_ssml)\n",
        "print(ad_text_ssml_custom.value)"
      ]
    },
    {
      "cell_type": "code",
      "execution_count": null,
      "metadata": {
        "id": "ScEWvgH6xIfk"
      },
      "outputs": [],
      "source": [
        "#@title Speech generated for the available voices in the selected language\n",
        "all_voices = get_voices()\n",
        "pairs = get_voice_ssml_pairs(selected_languages_ssml, input_text)\n",
        "for voice_name_ssml in pairs:\n",
        "  print(f\"Voice: {voice_name_ssml[0]}\")\n",
        "  display(synthesize_speech(ad_text_ssml_custom.value, voice_name_ssml[0]))"
      ]
    },
    {
      "cell_type": "markdown",
      "metadata": {
        "id": "a1VmPzI4M3Np"
      },
      "source": [
        "# Customization: Change your SSML for a given voice name to make your ad perfect"
      ]
    },
    {
      "cell_type": "code",
      "execution_count": null,
      "metadata": {
        "id": "rFtzAkQUfeUb"
      },
      "outputs": [],
      "source": [
        "#@title Paste one of the SSML & select a voice\n",
        "from ipywidgets import widgets\n",
        "ad_text_ssml = widgets.Textarea(\n",
        "    value='Replace me with your SSML',\n",
        "    description='SSML string for TTS:',\n",
        "    disabled=False,\n",
        "    layout = widgets.Layout(width='1000px', height='200px')\n",
        ")\n",
        "ad_text_voice_name = widgets.Textarea(\n",
        "    value='Replace me with your voice name',\n",
        "    description='Voice name for TTS:',\n",
        "    disabled=False,\n",
        "    layout = widgets.Layout(width='1000px', height='50px')\n",
        ")\n",
        "box = widgets.VBox([ad_text_ssml, ad_text_voice_name])\n",
        "box"
      ]
    },
    {
      "cell_type": "code",
      "execution_count": null,
      "metadata": {
        "id": "5mcgu8B_RrWr"
      },
      "outputs": [],
      "source": [
        "#@title Listen to & download the generated speech\n",
        "synthesize_speech(ad_text_ssml.value, ad_text_voice_name.value)"
      ]
    },
    {
      "cell_type": "markdown",
      "metadata": {
        "id": "_ca0JMK_DfqU"
      },
      "source": [
        "Paste your SSML and get a list of all voices"
      ]
    }
  ],
  "metadata": {
    "colab": {
      "last_runtime": {
        "build_target": "",
        "kind": "local"
      },
      "private_outputs": true,
      "provenance": [
        {
          "file_id": "/piper/depot/google3/corp/gtech/ads/solutions/scale_speak_lite/scale_speak_lite.ipynb?workspaceId=psnel:update::citc",
          "timestamp": 1702301310318
        },
        {
          "file_id": "/piper/depot/google3/corp/gtech/ads/solutions/scale_speak_lite/scale_speak_lite.ipynb",
          "timestamp": 1701770308168
        }
      ],
      "toc_visible": true
    },
    "kernelspec": {
      "display_name": "Python 3",
      "name": "python3"
    },
    "language_info": {
      "name": "python"
    }
  },
  "nbformat": 4,
  "nbformat_minor": 0
}
